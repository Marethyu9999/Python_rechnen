{
 "cells": [
  {
   "cell_type": "code",
   "execution_count": 10,
   "metadata": {},
   "outputs": [
    {
     "ename": "AttributeError",
     "evalue": "'_WindowsSelectorEventLoop' object has no attribute 'run'",
     "output_type": "error",
     "traceback": [
      "\u001b[1;31m---------------------------------------------------------------------------\u001b[0m",
      "\u001b[1;31mAttributeError\u001b[0m                            Traceback (most recent call last)",
      "Input \u001b[1;32mIn [10]\u001b[0m, in \u001b[0;36m<module>\u001b[1;34m\u001b[0m\n\u001b[0;32m      8\u001b[0m     \u001b[38;5;28;01mreturn\u001b[39;00m a, b, c\n\u001b[0;32m     10\u001b[0m loop \u001b[38;5;241m=\u001b[39m asyncio\u001b[38;5;241m.\u001b[39mget_event_loop()\n\u001b[1;32m---> 11\u001b[0m \u001b[43mloop\u001b[49m\u001b[38;5;241;43m.\u001b[39;49m\u001b[43mrun\u001b[49m(input_variables())\n\u001b[0;32m     12\u001b[0m loop\u001b[38;5;241m.\u001b[39mclose()\n",
      "\u001b[1;31mAttributeError\u001b[0m: '_WindowsSelectorEventLoop' object has no attribute 'run'"
     ]
    }
   ],
   "source": [
    "import asyncio\n",
    "\n",
    "async def input_variables():\n",
    "    # input of variables a,b,c\n",
    "    a = float(input(\"a: \"))\n",
    "    b = float(input(\"b: \"))\n",
    "    c = float(input(\"c: \"))\n",
    "    return a, b, c\n",
    "\n",
    "loop = asyncio.get_event_loop()\n",
    "loop.run_until_complete(input_variables())\n",
    "loop.close()"
   ]
  }
 ],
 "metadata": {
  "interpreter": {
   "hash": "b61c6809e1d13d4976d10e594e8e436b1e56d028fa535a631a48024ee6b31bfb"
  },
  "kernelspec": {
   "display_name": "Python 3.10.2 64-bit",
   "language": "python",
   "name": "python3"
  },
  "language_info": {
   "codemirror_mode": {
    "name": "ipython",
    "version": 3
   },
   "file_extension": ".py",
   "mimetype": "text/x-python",
   "name": "python",
   "nbconvert_exporter": "python",
   "pygments_lexer": "ipython3",
   "version": "3.10.2"
  },
  "orig_nbformat": 4
 },
 "nbformat": 4,
 "nbformat_minor": 2
}
